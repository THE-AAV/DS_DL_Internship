{
 "cells": [
  {
   "cell_type": "markdown",
   "id": "da7604d4-8c2c-407a-aad5-db56bc19a96d",
   "metadata": {},
   "source": [
    "### DATA STRUCTURES"
   ]
  },
  {
   "cell_type": "code",
   "execution_count": 5,
   "id": "05798610-7289-404d-9fa2-39c45a283cb3",
   "metadata": {},
   "outputs": [],
   "source": [
    "randomlist=(1,2,3,4,5)"
   ]
  },
  {
   "cell_type": "code",
   "execution_count": 6,
   "id": "2a3bd421-01d6-43fc-b979-79dc594c8acf",
   "metadata": {},
   "outputs": [
    {
     "name": "stdout",
     "output_type": "stream",
     "text": [
      "The final answer is : 15\n"
     ]
    }
   ],
   "source": [
    "result =1\n",
    "for _ in randomlist:\n",
    "    if _ % 2 !=0:\n",
    "        result *=_\n",
    "print(f'The final answer is : {result}')\n",
    "    "
   ]
  },
  {
   "cell_type": "code",
   "execution_count": null,
   "id": "3d5f90dc-752c-49a3-96e3-ea8eb0a94841",
   "metadata": {},
   "outputs": [],
   "source": []
  }
 ],
 "metadata": {
  "kernelspec": {
   "display_name": "Python 3 (ipykernel)",
   "language": "python",
   "name": "python3"
  },
  "language_info": {
   "codemirror_mode": {
    "name": "ipython",
    "version": 3
   },
   "file_extension": ".py",
   "mimetype": "text/x-python",
   "name": "python",
   "nbconvert_exporter": "python",
   "pygments_lexer": "ipython3",
   "version": "3.13.2"
  }
 },
 "nbformat": 4,
 "nbformat_minor": 5
}
